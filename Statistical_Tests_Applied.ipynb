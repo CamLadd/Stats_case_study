{
 "cells": [
  {
   "cell_type": "markdown",
   "metadata": {},
   "source": [
    "# Case Background & Key Questions\t\n",
    "\n",
    "Flatiron Health Insurance (FHI) is a growing private healthcare insurance provider founded on the premise that using data and analytics can improve the health insurance industry by providing better care and offerings to its patients. Every year, the Center for Disease Control (CDC) conducts surveys to understand the latest demographic, health, and fitness trends. You have been tasked with analyzing the recently published results of this year's survey and providing your recommendations back to the Chief Analytics Officer and Chief Marketing Officer. You have been assigned the task of taking a first look at the data and beginning to answer several key questions:\n",
    "\t\t\t\t\t\t\t\t\t\t\t \t\t\t\t\t\t\t\t\n",
    "1)  How does health status, represented by average number of days with bad physical health in the past month (PHYSHLTH), differ by state? Also provide an indication of distribution using whatever statistics you find suitable.\n",
    " \t\t\t\t\t\t\t\t\t\t\t\t \t\t\t\t\t\t\t\t\n",
    "2)  Digging deeper into the data, what are some factors that impact health (i.e. demographics, behaviors, previous illness, etc.)?\t\n",
    "\t\t\t\t\t\t \t\t\t\t\t\t\n",
    "To get you started, the IT department formatted the data set into a tab delimited text file for only NY, NJ, and CT (FHI’s primary markets) called `case_study.csv`. Below you will find a list of steps/questions that you will need to take in your investigation. The first part of the notebook will be focused on cleaning up your data and visualizing it.  The second part of the data set will be focused on performing statistical tests to make statements with statistical significance.  \n"
   ]
  },
  {
   "cell_type": "markdown",
   "metadata": {},
   "source": [
    "Before you begin writing your code to clean up this data in Pandas, I encourage you to watch the following video that explains the most efficient way to clean data in pandas.\n",
    "\n",
    "https://www.youtube.com/watch?v=nxWginnBklU&feature=youtu.be\n",
    "\n",
    "Also, here is a link to his notebook of sample code.  \n",
    "https://gitlab.com/cheevahagadog/talks-demos-n-such/tree/master/PyGotham2019"
   ]
  },
  {
   "cell_type": "code",
   "execution_count": 4,
   "metadata": {},
   "outputs": [],
   "source": [
    "import pandas as pd\n",
    "import matplotlib.pyplot as plt\n",
    "import numpy as np\n",
    "%matplotlib inline"
   ]
  },
  {
   "cell_type": "markdown",
   "metadata": {},
   "source": [
    "# pd.read_csv('case_study.csv')"
   ]
  },
  {
   "cell_type": "code",
   "execution_count": 5,
   "metadata": {},
   "outputs": [
    {
     "name": "stderr",
     "output_type": "stream",
     "text": [
      "C:\\Users\\camla\\anaconda3\\envs\\learn-env\\lib\\site-packages\\IPython\\core\\interactiveshell.py:3145: DtypeWarning: Columns (171) have mixed types.Specify dtype option on import or set low_memory=False.\n",
      "  has_raised = await self.run_ast_nodes(code_ast.body, cell_name,\n"
     ]
    }
   ],
   "source": [
    "#Load our dataframe account for the index columns\r\n",
    "df = pd.read_csv('case_study.csv', index_col=0)"
   ]
  },
  {
   "cell_type": "code",
   "execution_count": 6,
   "metadata": {},
   "outputs": [
    {
     "data": {
      "text/html": "<div>\n<style scoped>\n    .dataframe tbody tr th:only-of-type {\n        vertical-align: middle;\n    }\n\n    .dataframe tbody tr th {\n        vertical-align: top;\n    }\n\n    .dataframe thead th {\n        text-align: right;\n    }\n</style>\n<table border=\"1\" class=\"dataframe\">\n  <thead>\n    <tr style=\"text-align: right;\">\n      <th></th>\n      <th>_STATE</th>\n      <th>FMONTH</th>\n      <th>IDATE</th>\n      <th>IMONTH</th>\n      <th>IDAY</th>\n      <th>IYEAR</th>\n      <th>DISPCODE</th>\n      <th>SEQNO</th>\n      <th>_PSU</th>\n      <th>CTELENM1</th>\n      <th>...</th>\n      <th>_PA300R2</th>\n      <th>_PA30021</th>\n      <th>_PASTRNG</th>\n      <th>_PAREC1</th>\n      <th>_PASTAE1</th>\n      <th>_RFSEAT2</th>\n      <th>_RFSEAT3</th>\n      <th>_FLSHOT6</th>\n      <th>_PNEUMO2</th>\n      <th>_AIDTST3</th>\n    </tr>\n  </thead>\n  <tbody>\n    <tr>\n      <th>49938</th>\n      <td>9.0</td>\n      <td>5.0</td>\n      <td>5172017</td>\n      <td>5</td>\n      <td>17</td>\n      <td>2017</td>\n      <td>1200.0</td>\n      <td>2017000001</td>\n      <td>2.017000e+09</td>\n      <td>NaN</td>\n      <td>...</td>\n      <td>2.0</td>\n      <td>2.0</td>\n      <td>2.0</td>\n      <td>4.0</td>\n      <td>2.0</td>\n      <td>1.0</td>\n      <td>1.0</td>\n      <td>NaN</td>\n      <td>NaN</td>\n      <td>1.0</td>\n    </tr>\n    <tr>\n      <th>49939</th>\n      <td>9.0</td>\n      <td>2.0</td>\n      <td>2142017</td>\n      <td>2</td>\n      <td>14</td>\n      <td>2017</td>\n      <td>1200.0</td>\n      <td>2017000002</td>\n      <td>2.017000e+09</td>\n      <td>NaN</td>\n      <td>...</td>\n      <td>1.0</td>\n      <td>1.0</td>\n      <td>1.0</td>\n      <td>1.0</td>\n      <td>1.0</td>\n      <td>2.0</td>\n      <td>2.0</td>\n      <td>NaN</td>\n      <td>NaN</td>\n      <td>2.0</td>\n    </tr>\n    <tr>\n      <th>49940</th>\n      <td>9.0</td>\n      <td>1.0</td>\n      <td>1292017</td>\n      <td>1</td>\n      <td>29</td>\n      <td>2017</td>\n      <td>1200.0</td>\n      <td>2017000003</td>\n      <td>2.017000e+09</td>\n      <td>NaN</td>\n      <td>...</td>\n      <td>3.0</td>\n      <td>2.0</td>\n      <td>1.0</td>\n      <td>3.0</td>\n      <td>2.0</td>\n      <td>1.0</td>\n      <td>1.0</td>\n      <td>NaN</td>\n      <td>NaN</td>\n      <td>2.0</td>\n    </tr>\n    <tr>\n      <th>49941</th>\n      <td>9.0</td>\n      <td>7.0</td>\n      <td>9112017</td>\n      <td>9</td>\n      <td>11</td>\n      <td>2017</td>\n      <td>1200.0</td>\n      <td>2017000004</td>\n      <td>2.017000e+09</td>\n      <td>NaN</td>\n      <td>...</td>\n      <td>2.0</td>\n      <td>2.0</td>\n      <td>2.0</td>\n      <td>2.0</td>\n      <td>2.0</td>\n      <td>1.0</td>\n      <td>1.0</td>\n      <td>NaN</td>\n      <td>NaN</td>\n      <td>1.0</td>\n    </tr>\n    <tr>\n      <th>49942</th>\n      <td>9.0</td>\n      <td>5.0</td>\n      <td>7182017</td>\n      <td>7</td>\n      <td>18</td>\n      <td>2017</td>\n      <td>1200.0</td>\n      <td>2017000005</td>\n      <td>2.017000e+09</td>\n      <td>NaN</td>\n      <td>...</td>\n      <td>2.0</td>\n      <td>2.0</td>\n      <td>1.0</td>\n      <td>1.0</td>\n      <td>1.0</td>\n      <td>1.0</td>\n      <td>1.0</td>\n      <td>NaN</td>\n      <td>NaN</td>\n      <td>2.0</td>\n    </tr>\n  </tbody>\n</table>\n<p>5 rows × 358 columns</p>\n</div>",
      "text/plain": "       _STATE  FMONTH    IDATE  IMONTH  IDAY  IYEAR  DISPCODE       SEQNO  \\\n49938     9.0     5.0  5172017       5    17   2017    1200.0  2017000001   \n49939     9.0     2.0  2142017       2    14   2017    1200.0  2017000002   \n49940     9.0     1.0  1292017       1    29   2017    1200.0  2017000003   \n49941     9.0     7.0  9112017       9    11   2017    1200.0  2017000004   \n49942     9.0     5.0  7182017       7    18   2017    1200.0  2017000005   \n\n               _PSU  CTELENM1  ...  _PA300R2  _PA30021  _PASTRNG  _PAREC1  \\\n49938  2.017000e+09       NaN  ...       2.0       2.0       2.0      4.0   \n49939  2.017000e+09       NaN  ...       1.0       1.0       1.0      1.0   \n49940  2.017000e+09       NaN  ...       3.0       2.0       1.0      3.0   \n49941  2.017000e+09       NaN  ...       2.0       2.0       2.0      2.0   \n49942  2.017000e+09       NaN  ...       2.0       2.0       1.0      1.0   \n\n       _PASTAE1  _RFSEAT2  _RFSEAT3  _FLSHOT6  _PNEUMO2  _AIDTST3  \n49938       2.0       1.0       1.0       NaN       NaN       1.0  \n49939       1.0       2.0       2.0       NaN       NaN       2.0  \n49940       2.0       1.0       1.0       NaN       NaN       2.0  \n49941       2.0       1.0       1.0       NaN       NaN       1.0  \n49942       1.0       1.0       1.0       NaN       NaN       2.0  \n\n[5 rows x 358 columns]"
     },
     "execution_count": 6,
     "metadata": {},
     "output_type": "execute_result"
    }
   ],
   "source": [
    "df.head()"
   ]
  },
  {
   "cell_type": "code",
   "execution_count": 7,
   "metadata": {},
   "outputs": [
    {
     "data": {
      "text/plain": "(34545, 358)"
     },
     "execution_count": 7,
     "metadata": {},
     "output_type": "execute_result"
    }
   ],
   "source": [
    "# Quickly check to see the size of our DF, both rows and columns\n",
    "df.shape"
   ]
  },
  {
   "cell_type": "markdown",
   "metadata": {},
   "source": [
    "## Subset your dataframe to only include the states in the tri-state area (NJ, CT, NY)"
   ]
  },
  {
   "cell_type": "code",
   "execution_count": 8,
   "metadata": {},
   "outputs": [],
   "source": [
    "pd.set_option('display.max_columns', 358)"
   ]
  },
  {
   "cell_type": "code",
   "execution_count": 9,
   "metadata": {},
   "outputs": [
    {
     "data": {
      "text/plain": "(34545, 358)"
     },
     "execution_count": 9,
     "metadata": {},
     "output_type": "execute_result"
    }
   ],
   "source": [
    "# your code here\r\n",
    "df[df['_STATE'].isin([9,34,36])].shape\r\n",
    "\r\n",
    "#It seems like the subset of cities that we are interested in composes the entire DataFrame. How lucky!"
   ]
  },
  {
   "cell_type": "code",
   "execution_count": 10,
   "metadata": {},
   "outputs": [
    {
     "data": {
      "text/plain": "36.0    12249\n34.0    11708\n9.0     10588\nName: _STATE, dtype: int64"
     },
     "execution_count": 10,
     "metadata": {},
     "output_type": "execute_result"
    }
   ],
   "source": [
    "df['_STATE'].value_counts()"
   ]
  },
  {
   "cell_type": "markdown",
   "metadata": {},
   "source": [
    "Now check to see how large our subset df."
   ]
  },
  {
   "cell_type": "markdown",
   "metadata": {},
   "source": [
    "**PHYSHLTH** is the column we are interested in for this analysis, so let's start to investigate the column. Since we have a data cookbook, a.k.a. data dictionary) we want to start there before looking at the code."
   ]
  },
  {
   "cell_type": "code",
   "execution_count": 11,
   "metadata": {
    "scrolled": true
   },
   "outputs": [
    {
     "data": {
      "text/plain": "count    34545.000000\nmean        60.213403\nstd         37.504566\nmin          1.000000\n25%         15.000000\n50%         88.000000\n75%         88.000000\nmax         99.000000\nName: PHYSHLTH, dtype: float64"
     },
     "execution_count": 11,
     "metadata": {},
     "output_type": "execute_result"
    }
   ],
   "source": [
    "df['PHYSHLTH'].describe()"
   ]
  },
  {
   "cell_type": "markdown",
   "metadata": {},
   "source": [
    "## 1. Handle the non-normal values\n",
    "\n",
    "As you can see from the data dictionary, there are a number of responses that are coded with values that could throw off our descriptive statistics.  Let's clean up by mapping the responses to a more appropriate value, and handling any missing values.  "
   ]
  },
  {
   "cell_type": "code",
   "execution_count": 12,
   "metadata": {
    "collapsed": true
   },
   "outputs": [
    {
     "data": {
      "text/plain": "88.0    21296\n30.0     2438\n2.0      1993\n1.0      1538\n3.0      1187\n5.0      1092\n10.0      751\n7.0       641\n15.0      640\n4.0       622\n77.0      493\n20.0      402\n14.0      326\n99.0      305\n6.0       187\n25.0      159\n8.0        99\n21.0       70\n12.0       69\n28.0       57\n29.0       35\n27.0       22\n18.0       19\n16.0       16\n17.0       15\n9.0        15\n22.0       12\n13.0       10\n19.0       10\n11.0        8\n24.0        7\n26.0        7\n23.0        4\nName: PHYSHLTH, dtype: int64"
     },
     "execution_count": 12,
     "metadata": {},
     "output_type": "execute_result"
    }
   ],
   "source": [
    "df['PHYSHLTH'].value_counts()"
   ]
  },
  {
   "cell_type": "code",
   "execution_count": 13,
   "metadata": {},
   "outputs": [],
   "source": [
    "#your code here\r\n",
    "\r\n",
    "# Look at the codebook in order to make determinations! \r\n",
    "# The number 88 actually corresponds to a value of 0. The number 77 corresponds to a 'I'm not sure' response. The number 99 means the subject refused to answer\r\n",
    "# With this in mind, lets replace all values of 88 with 0, and all values of 77 and 99 with np.nan to refelct their lack of affect on the data\r\n",
    "# I will replace all of them with null values\r\n",
    "\r\n",
    "df['PHYSHLTH'] = df['PHYSHLTH'].replace([88, 77, 99], [0, np.nan, np.nan])   # I am making an assumption that those that the filled in nonsense values indicated a zero value\r\n",
    "# Also 88 made up 21k of the values, so I can't really get rid of it or my remaining DataFrame won't be representative of the data"
   ]
  },
  {
   "cell_type": "code",
   "execution_count": 14,
   "metadata": {},
   "outputs": [
    {
     "data": {
      "text/plain": "798"
     },
     "execution_count": 14,
     "metadata": {},
     "output_type": "execute_result"
    }
   ],
   "source": [
    "df['PHYSHLTH'].isna().sum()       # So we have 798 rows to remove from the DataFrame"
   ]
  },
  {
   "cell_type": "code",
   "execution_count": 15,
   "metadata": {},
   "outputs": [
    {
     "name": "stdout",
     "output_type": "stream",
     "text": [
      "0.0     21296\n",
      "30.0     2438\n",
      "2.0      1993\n",
      "1.0      1538\n",
      "3.0      1187\n",
      "5.0      1092\n",
      "10.0      751\n",
      "7.0       641\n",
      "15.0      640\n",
      "4.0       622\n",
      "20.0      402\n",
      "14.0      326\n",
      "6.0       187\n",
      "25.0      159\n",
      "8.0        99\n",
      "21.0       70\n",
      "12.0       69\n",
      "28.0       57\n",
      "29.0       35\n",
      "27.0       22\n",
      "18.0       19\n",
      "16.0       16\n",
      "17.0       15\n",
      "9.0        15\n",
      "22.0       12\n",
      "13.0       10\n",
      "19.0       10\n",
      "11.0        8\n",
      "24.0        7\n",
      "26.0        7\n",
      "23.0        4\n",
      "Name: PHYSHLTH, dtype: int64 count    33747.000000\n",
      "mean         4.085341\n",
      "std          8.513293\n",
      "min          0.000000\n",
      "25%          0.000000\n",
      "50%          0.000000\n",
      "75%          3.000000\n",
      "max         30.000000\n",
      "Name: PHYSHLTH, dtype: float64\n"
     ]
    }
   ],
   "source": [
    "print(df['PHYSHLTH'].value_counts(), df['PHYSHLTH'].describe())"
   ]
  },
  {
   "cell_type": "markdown",
   "metadata": {},
   "source": [
    "## 2. Generate the descriptive statistics\n",
    "\n",
    "Now that our target variable is cleaned up lets calculate the descriptive statistics, generate a graph that quickly shows those statistics, and generate a graph shows the distribution of the data."
   ]
  },
  {
   "cell_type": "code",
   "execution_count": 16,
   "metadata": {},
   "outputs": [],
   "source": [
    "df = df.dropna(subset=['PHYSHLTH']) # This will drop all rows in the dataframe that have a np.nan null value in their ['PHYSHLTH'] column"
   ]
  },
  {
   "cell_type": "code",
   "execution_count": 29,
   "metadata": {},
   "outputs": [
    {
     "data": {
      "image/png": "[encoded data removed]",
      "text/plain": "<Figure size 720x720 with 2 Axes>"
     },
     "metadata": {
      "needs_background": "light"
     },
     "output_type": "display_data"
    }
   ],
   "source": [
    "# Boxplot shows the descriptive statistics!!!\r\n",
    "# Histogram shows the distribution of the data!!!\r\n",
    "\r\n",
    "fig, ax = plt.subplots(1, 2, figsize = (10,10))\r\n",
    "\r\n",
    "# Add a boxplot for the \"Height\" column in the DataFrames\r\n",
    "ax[0].boxplot(df['PHYSHLTH'])\r\n",
    "ax[0].set_xlabel('Physical Health')\r\n",
    "ax[0].set_ylabel('Days Sick')\r\n",
    "\r\n",
    "\r\n",
    "ax[1].hist(df['PHYSHLTH'], density=True)\r\n",
    "ax[1].set_xlabel('Days Sick')\r\n",
    "ax[1].set_ylabel('Frequency')\r\n",
    "\r\n",
    "fig.tight_layout()\r\n",
    "plt.show()"
   ]
  },
  {
   "cell_type": "markdown",
   "metadata": {},
   "source": [
    "## 3. Generate a graphic that compares the average number of sick days for each state. "
   ]
  },
  {
   "cell_type": "code",
   "execution_count": 63,
   "metadata": {},
   "outputs": [
    {
     "data": {
      "text/plain": "_STATE\n9.0     3.688562\n34.0    4.380957\n36.0    4.148030\nName: PHYSHLTH, dtype: float64"
     },
     "execution_count": 63,
     "metadata": {},
     "output_type": "execute_result"
    }
   ],
   "source": [
    "# code to calculate the average number of sick days by state\r\n",
    "df.groupby('_STATE').mean()['PHYSHLTH']\r\n",
    "\r\n",
    "\r\n",
    "\r\n",
    "# means = df.groupby('_STATE')['PHYSHLTH'].mean().values\r\n"
   ]
  },
  {
   "cell_type": "code",
   "execution_count": 64,
   "metadata": {},
   "outputs": [
    {
     "data": {
      "text/plain": "<BarContainer object of 3 artists>"
     },
     "execution_count": 64,
     "metadata": {},
     "output_type": "execute_result"
    },
    {
     "data": {
      "image/png": "[encoded data removed]",
      "text/plain": "<Figure size 432x288 with 1 Axes>"
     },
     "metadata": {
      "needs_background": "light"
     },
     "output_type": "display_data"
    }
   ],
   "source": [
    "# code to graph tho,se averages using matplotlib\r\n",
    "states = ['Conn', 'NJ', 'NY']\r\n",
    "means = df.groupby('_STATE').mean()['PHYSHLTH'].values\r\n",
    "\r\n",
    "\r\n",
    "fig, ax = plt.subplots()\r\n",
    "ax.bar(states, means)"
   ]
  },
  {
   "cell_type": "code",
   "execution_count": 78,
   "metadata": {},
   "outputs": [
    {
     "data": {
      "text/plain": "(array([3.28182890e-01, 5.30481644e-02, 2.80397440e-02, 1.26305153e-02,\n        1.85247558e-03, 1.17884810e-02, 1.30515325e-03, 1.54092287e-02,\n        3.36813742e-04, 3.78915460e-04, 7.36780061e-03, 1.68406871e-04,\n        2.48400135e-03, 5.05220613e-04, 3.65021893e-02]),\n array([ 0.,  2.,  4.,  6.,  8., 10., 12., 14., 16., 18., 20., 22., 24.,\n        26., 28., 30.]),\n [<matplotlib.patches.Polygon at 0x21834107790>])"
     },
     "execution_count": 78,
     "metadata": {},
     "output_type": "execute_result"
    },
    {
     "data": {
      "image/png": "[encoded data removed]",
      "text/plain": "<Figure size 432x288 with 1 Axes>"
     },
     "metadata": {
      "needs_background": "light"
     },
     "output_type": "display_data"
    }
   ],
   "source": [
    "# graphic showing the histogram of data\r\n",
    "# THIS IS BASICALLY ASKING FOR A HISTOGRAM LIKE YOU DID ABOVE, BUT ONE THAT IS DIVIDED BY STATE. Plot multiple histograms on the same plot!\r\n",
    "fig, ax = plt.subplots()\r\n",
    "ax.hist(df[df['_STATE']==9]['PHYSHLTH'], bins=15, density=True, color='red', histtype='step')\r\n",
    "ax.hist(df[df['_STATE']==34]['PHYSHLTH'], bins=15, density=True, color='blue', histtype='step')\r\n",
    "ax.hist(df[df['_STATE']==36]['PHYSHLTH'], bins=15, density=True, color='green', histtype='step')\r\n",
    "\r\n",
    "\r\n",
    "# How can I determine the proper number of bins?\r\n"
   ]
  },
  {
   "cell_type": "markdown",
   "metadata": {},
   "source": [
    "## 4. Turn the number of sick days into a classification of of chronically sick people.  \n",
    "\n",
    "Chronically sick people account for a significant proportion of the costs for health insurers. If we can identify what leads people to be chronically sick, we can address them with specific treatments.\n",
    "\n"
   ]
  },
  {
   "cell_type": "code",
   "execution_count": 95,
   "metadata": {},
   "outputs": [],
   "source": [
    "# code to create new colum for chronically sick\r\n",
    "\r\n",
    "df['chron'] = np.where(df['PHYSHLTH']>=12, 1, 0)\r\n",
    "\r\n",
    "# This np.where() function will iterate through the array and check each value to see if it meets our condition of being greater than 12 (apparently that's the cutoff number we are using to determine if people are chronically sick)\r\n",
    "# It will put a 1 where the condition is True, and a 0 where the condition is False"
   ]
  },
  {
   "cell_type": "markdown",
   "metadata": {},
   "source": [
    "## 5. Create a graphic that compares the percentage of people labeled as 'sick' in each state. "
   ]
  },
  {
   "cell_type": "code",
   "execution_count": 96,
   "metadata": {},
   "outputs": [
    {
     "data": {
      "text/plain": "_STATE\n9.0     0.114568\n34.0    0.139117\n36.0    0.128915\nName: chron, dtype: float64"
     },
     "execution_count": 96,
     "metadata": {},
     "output_type": "execute_result"
    }
   ],
   "source": [
    "# code to calculate averages per state\r\n",
    "# Because of how we structured the 'chron' series, if we average the values for each state in the chron section, the mean value that we recieve\r\n",
    "# will also be the percentage of people labeled as sick\r\n",
    "\r\n",
    "# Ex. --> 10 people in total. Sick vs not sick --> [0, 1, 1 ,1 ,1, 0, 0, 0, 1, 0]\r\n",
    "#                                       sum of sick (all the 1s) = 5\r\n",
    "#                                                               total # of values = 10\r\n",
    "#                                                                            %sick = 5/10 = .50 = 50%\r\n",
    "\r\n",
    "df.groupby('_STATE')['chron'].mean()"
   ]
  },
  {
   "cell_type": "code",
   "execution_count": 99,
   "metadata": {},
   "outputs": [
    {
     "data": {
      "text/plain": "Text(0.5, 1.0, 'Chronically Sick as % of Total State Population')"
     },
     "execution_count": 99,
     "metadata": {},
     "output_type": "execute_result"
    },
    {
     "data": {
      "image/png": "[encoded data removed]",
      "text/plain": "<Figure size 432x288 with 1 Axes>"
     },
     "metadata": {
      "needs_background": "light"
     },
     "output_type": "display_data"
    }
   ],
   "source": [
    "# create graphic to compare chronically sick by state\r\n",
    "percents = df.groupby('_STATE')['chron'].mean().values\r\n",
    "\r\n",
    "fig, ax = plt.subplots()\r\n",
    "\r\n",
    "ax.bar(states, percents, color = ['blue', 'green', 'red'])\r\n",
    "ax.set_xlabel('States')\r\n",
    "ax.set_ylabel('% Chronically Sick')\r\n",
    "ax.set_title('Chronically Sick as % of Total State Population')"
   ]
  },
  {
   "cell_type": "markdown",
   "metadata": {},
   "source": [
    "## 6. Independent Variables (categorical)\n",
    "\n",
    "Does smoking affect the number of days people feel physically ill? \n",
    "Let's take the column `SMOKDAY2` and start to prepare it so that we can see how it is possibly correlated to `PHYSHLTH`. When cleaning this data you will find that many respondents were not asked that question. read the codebook to understand why, and use that information when cleaning up your data. I.E, you will need to process two columns in order to create a new column of smokers.\n",
    "\n",
    "1. Clean up the values.\n",
    "2. Calculate the descriptive statistics of the variable.\n",
    "3. Generate a histogram for the variable.\n",
    "4. Generate graphics that show how the responses to this variable might differ by state.\n",
    "5. Generate a graphic that compares the physical health of the different groups of 'smokers'."
   ]
  },
  {
   "cell_type": "code",
   "execution_count": 112,
   "metadata": {},
   "outputs": [
    {
     "name": "stdout",
     "output_type": "stream",
     "text": [
      "Number of missing values: 20279\n",
      "Total number of values: 33747\n",
      "Percent of values that are missing: 0.6009126737191454\n"
     ]
    }
   ],
   "source": [
    "# According to the databook:\r\n",
    "# 1 = Everyday, 2 = Some days, 3 = Not at all, 7 = Don't know/not sure, 9 = Refused to answer\r\n",
    "x = df['SMOKDAY2'].isna().sum()\r\n",
    "y = len(df['SMOKDAY2'])\r\n",
    "percent = x/y\r\n",
    "print(f'Number of missing values: {x}')\r\n",
    "print(f'Total number of values: {y}')\r\n",
    "print(f'Percent of values that are missing: {percent}')\r\n",
    "\r\n",
    "# We also need to look at the \"SMOKE100\" column. We need to blend this column with the 'SMOKDAY2' column.\r\n",
    "\r\n",
    "\r\n"
   ]
  },
  {
   "cell_type": "code",
   "execution_count": null,
   "metadata": {},
   "outputs": [],
   "source": [
    "# code to graph those proportion of differen smoking groups using matplotlib\n"
   ]
  },
  {
   "cell_type": "code",
   "execution_count": null,
   "metadata": {},
   "outputs": [],
   "source": [
    "# your code here"
   ]
  },
  {
   "cell_type": "code",
   "execution_count": null,
   "metadata": {},
   "outputs": [],
   "source": [
    "#graph showing the breakdown of smokers per state"
   ]
  },
  {
   "cell_type": "code",
   "execution_count": null,
   "metadata": {},
   "outputs": [],
   "source": [
    "# code to graph these averages sick days for each category of smoking status"
   ]
  },
  {
   "cell_type": "markdown",
   "metadata": {},
   "source": [
    "## 7. Independent Variables (continuous):\n",
    "\n",
    "Does the amount of days a person drinks affect the number of days they feel physically ill?\n",
    "To investigate this, let's look at a continuous variable (ALCDAY5) and see how that might impact a person's health. \n",
    "\n",
    "1. Clean up the values.\n",
    "2. Calculate the descriptive statistics of the variable.\n",
    "3. Generate a histogram for the variable.\n",
    "4. Generate graphics that show how the responses to this variable might differ by state.\n",
    "5. Calculate the correlation coefficient between `PHYSHLTH` and `ALCDAY5`.\n",
    "5. Generate a graphic that shows the possible relationship between `PHYSHLTH` and `ALCDAY5`."
   ]
  },
  {
   "cell_type": "code",
   "execution_count": null,
   "metadata": {},
   "outputs": [],
   "source": [
    "# code here to clean up the ALCDAY5 responses\n"
   ]
  },
  {
   "cell_type": "code",
   "execution_count": null,
   "metadata": {},
   "outputs": [],
   "source": [
    "#descriptive statistics of cleaned data"
   ]
  },
  {
   "cell_type": "code",
   "execution_count": null,
   "metadata": {},
   "outputs": [],
   "source": [
    "# graphic showing the histogram of data\n"
   ]
  },
  {
   "cell_type": "code",
   "execution_count": null,
   "metadata": {},
   "outputs": [],
   "source": [
    "# code to calculate averages per state\n"
   ]
  },
  {
   "cell_type": "code",
   "execution_count": null,
   "metadata": {},
   "outputs": [],
   "source": [
    "# Code to calculate correlation of between number of dirnks of number of days physically ill"
   ]
  },
  {
   "cell_type": "markdown",
   "metadata": {},
   "source": [
    "## 8. Statistical Inference\n"
   ]
  },
  {
   "cell_type": "markdown",
   "metadata": {},
   "source": [
    "- Create a 95% confidence interval for the population mean of physically ill days."
   ]
  },
  {
   "cell_type": "markdown",
   "metadata": {},
   "source": [
    "-  Create a 95% confidence interval for the true proportion of chronically sick people."
   ]
  },
  {
   "cell_type": "markdown",
   "metadata": {},
   "source": [
    "## 9. Hypothesis Tests "
   ]
  },
  {
   "cell_type": "markdown",
   "metadata": {},
   "source": [
    "**For the follwing questions that require hypothesis tests, you must complete the following steps for each question:**\n",
    "\n",
    "*1. Write down the null and alternative hypothesis you are testing.* \n",
    "\n",
    "*2. Select the appropriate test and calculate the test statistic and P-values.*\n",
    "\n",
    "*3. Determine the critical value for the 95% confidence interval.*\n",
    "\n",
    "*4. Evaluate the test statistic agains the critical value.*\n",
    "\n",
    "*5. Determine if you reject or fail to reject the null hypothesis and write a sentence explaining the results of your hypothesis test.*  "
   ]
  },
  {
   "cell_type": "markdown",
   "metadata": {},
   "source": [
    "### 9.A The following questions are regarding the `PHYSHLTH` variable. \n",
    "1. What is the probability of getting this sample mean for days physically ill, if the population mean is 4?\n",
    "2. Is there a statistically significant difference between men and women in the number of days a person feels phsyically ill?\n",
    "3. Perform a statistical test to determine if there statistically significant difference is physical health of people from the three states. \n"
   ]
  },
  {
   "cell_type": "markdown",
   "metadata": {},
   "source": [
    "### 9.B The following questions are regarding the  `CHRONIC` variable.\n",
    "1. What is the probability of drawing this sample proportion if chronically true population proportion is 0.10?\n",
    "2. Is there a statistically significant difference in the percentage of men and women who are chronically sick?\n",
    "3. Perform a statistical test to determine if there is a statistically significant difference in cproportion of people with chronic health issues from the three states."
   ]
  },
  {
   "cell_type": "markdown",
   "metadata": {},
   "source": [
    "# 10. Independent Investigation\n",
    "\n",
    "Now that you have invesitgated physical health and chronic sickness and their relationships with states and gender, you will conduct a similar investigation with variables of your choosing. \n"
   ]
  },
  {
   "cell_type": "markdown",
   "metadata": {},
   "source": [
    "**Select a continuous variable from the survey questions as you dependent variable and perform the following:**\n",
    "  1. Determine the sample mean and sample standard deviation\n",
    "  2. Create a confidence interval for a population mean.\n",
    "  3. Perform a two-sample test of means for gender.\n",
    "  4. Perform a one-way ANOVA using your categorical independent variable."
   ]
  },
  {
   "cell_type": "markdown",
   "metadata": {},
   "source": [
    "**Select/create a binary variable from the survey questions as you dependent variable and perform the following:**\n",
    "  1. Create a confidence interval for a population proportion.\n",
    "  2. Perform a two proportions z-test using gender.\n",
    "  3. Perform a Chi-Square test using your categorical independent variable."
   ]
  }
 ],
 "metadata": {
  "kernelspec": {
   "display_name": "Python 3.8.5 64-bit ('learn-env': conda)",
   "name": "python385jvsc74a57bd002a9839076075b91ad0ca4473d7f7ceb754ea3983ec7c01053cc622904b7a0ac"
  },
  "language_info": {
   "codemirror_mode": {
    "name": "ipython",
    "version": 3
   },
   "file_extension": ".py",
   "mimetype": "text/x-python",
   "name": "python",
   "nbconvert_exporter": "python",
   "pygments_lexer": "ipython3",
   "version": "3.8.5"
  }
 },
 "nbformat": 4,
 "nbformat_minor": 2
}